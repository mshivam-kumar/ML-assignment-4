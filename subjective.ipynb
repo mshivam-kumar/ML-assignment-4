{
 "cells": [
  {
   "cell_type": "markdown",
   "metadata": {},
   "source": [
    "```markdown\n",
    "## Are the results as expected? Why or why not?\n",
    "- The results show varying levels of training and testing accuracy across different models and configurations. \n",
    "- Overall, the performance seems to align with expectations to some extent. Models with more trainable parameters and deeper architectures tend to have higher training accuracy, but this doesn't always translate to better testing accuracy. \n",
    "- For example, vgg_19_tuning_mlp has perfect training accuracy but slightly lower testing accuracy compared to vgg_19_tuning_all_layers, indicating potential overfitting.\n",
    "\n",
    "## Does data augmentation help? Why or why not?\n",
    "- In this case, data augmentation (VGG_3blocks_data_aug) did not significantly improve testing accuracy compared to the model without data augmentation (VGG_3block).\n",
    "- Data augmentation helps in improving model generalization by artificially increasing the diversity of the training dataset, which can prevent overfitting. However, its effectiveness depends on the dataset and the augmentation techniques used. In some cases, data augmentation may not lead to significant improvements if the original dataset is already diverse enough or if the augmentation techniques are not appropriate for the task.\n",
    "\n",
    "## Does it matter how many epochs you fine-tune the model? Why or why not?\n",
    "- The number of epochs for fine-tuning can impact the model's performance.\n",
    "- Training for too few epochs may result in underfitting, where the model fails to capture the underlying patterns in the data.\n",
    "- On the other hand, training for too many epochs may lead to overfitting, where the model learns noise in the training data and fails to generalize well to unseen data.\n",
    "- It's essential to find a balance by monitoring the training and validation performance and using techniques like early stopping to prevent overfitting.\n",
    "\n",
    "## Are there any particular images that the model is confused about? Why or why not?\n",
    "-Answer of our model is not good when we ask to classify self generated hard images\n",
    "- Confusion can arise when images from different classes share similar features or when there are ambiguous images that even humans might struggle to classify correctly.\n",
    "- Techniques like visualizing misclassified images or analyzing confusion matrices can help identify patterns of confusion and potentially improve the model's performance by addressing these specific cases.\n",
    "```"
   ]
  },
  {
   "cell_type": "markdown",
   "metadata": {},
   "source": []
  }
 ],
 "metadata": {
  "language_info": {
   "name": "python"
  }
 },
 "nbformat": 4,
 "nbformat_minor": 2
}
